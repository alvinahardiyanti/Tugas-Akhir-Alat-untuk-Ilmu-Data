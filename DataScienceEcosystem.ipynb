{
 "cells": [
  {
   "cell_type": "markdown",
   "id": "46451739-181e-4523-a41f-f8710a8f41fc",
   "metadata": {},
   "source": [
    "# Data Science Tools and Ecosystem"
   ]
  },
  {
   "cell_type": "markdown",
   "id": "da4a8702-0db4-45eb-a630-32389dceac5e",
   "metadata": {},
   "source": [
    "Dalam notebook ini, Alat dan Ekosistem Data Science dirangkum."
   ]
  },
  {
   "cell_type": "markdown",
   "id": "4c2defd2-b0fc-46db-8fa0-4524e052bda6",
   "metadata": {},
   "source": [
    "**Tujuan:**\n",
    "- Daftar bahasa populer untuk Data Science\n",
    "- Daftar pustaka yang umum digunakan untuk Data Science\n",
    "- Daftar alat atau tools yang digunakan untuk Data Science"
   ]
  },
  {
   "cell_type": "markdown",
   "id": "b2eccd0e-e765-46a9-9cca-a053c9852191",
   "metadata": {},
   "source": [
    "Beberapa bahasa populer yang digunakan oleh Data Scientist adalah:\n",
    "1. Python\n",
    "2. R\n",
    "3. SQL"
   ]
  },
  {
   "cell_type": "markdown",
   "id": "83af3da0-7fed-4a06-b837-f60927b50f69",
   "metadata": {},
   "source": [
    "Beberapa pustaka yang umum digunakan oleh Data Scientist meliputi:\n",
    "1. Pandas\n",
    "2. NumPy\n",
    "3. Matplotlib"
   ]
  },
  {
   "cell_type": "markdown",
   "id": "d904454c-4310-45a9-bb2a-41ee01e7ef34",
   "metadata": {},
   "source": [
    "|Alat Data Science|\n",
    "|-----------------|\n",
    "|Anaconda|\n",
    "|Jupyter Notebook|\n",
    "|Google Colab|\n",
    "|VS Code|\n",
    "|GitHub|"
   ]
  },
  {
   "cell_type": "markdown",
   "id": "94280481-33d6-4ef8-a624-e62f33d8a2fa",
   "metadata": {},
   "source": [
    "### Berikut adalah beberapa contoh evaluasi ekspresi aritmatika di Python.\n",
    "- (+) Penjumlahan\n",
    "- (-) Pengurangan\n",
    "- (*) Perkalian\n",
    "- (/) Pembagian\n",
    "\n",
    "Contoh: a = 2, b = 3. Jumlah = a + b = 5"
   ]
  },
  {
   "cell_type": "code",
   "execution_count": 1,
   "id": "7f5a31f5-4267-41aa-8a7f-086c7fe491b9",
   "metadata": {},
   "outputs": [
    {
     "data": {
      "text/plain": [
       "17"
      ]
     },
     "execution_count": 1,
     "metadata": {},
     "output_type": "execute_result"
    }
   ],
   "source": [
    "# Ini adalah ekspresi aritmatika sederhana untuk mengalikan kemudian menambah bilangan bulat.\n",
    "(3*4)+5"
   ]
  },
  {
   "cell_type": "code",
   "execution_count": 5,
   "id": "3cb3ee49-5856-4243-8eab-4b0391c025d8",
   "metadata": {},
   "outputs": [
    {
     "data": {
      "text/plain": [
       "3.3333333333333335"
      ]
     },
     "execution_count": 5,
     "metadata": {},
     "output_type": "execute_result"
    }
   ],
   "source": [
    "# Ini akan mengonversi 200 menit menjadi jam dengan membagi 60.\n",
    "menit = 200\n",
    "jam = menit/60\n",
    "jam"
   ]
  },
  {
   "cell_type": "markdown",
   "id": "0bbc566d-b844-4aa5-85b2-768eb72f2895",
   "metadata": {},
   "source": [
    "## Penulis\n",
    "Alvina Hardiyanti"
   ]
  },
  {
   "cell_type": "code",
   "execution_count": null,
   "id": "1935bd81-8c0b-4477-8cb8-35f59329edf4",
   "metadata": {},
   "outputs": [],
   "source": []
  }
 ],
 "metadata": {
  "kernelspec": {
   "display_name": "Python 3 (ipykernel)",
   "language": "python",
   "name": "python3"
  },
  "language_info": {
   "codemirror_mode": {
    "name": "ipython",
    "version": 3
   },
   "file_extension": ".py",
   "mimetype": "text/x-python",
   "name": "python",
   "nbconvert_exporter": "python",
   "pygments_lexer": "ipython3",
   "version": "3.12.8"
  }
 },
 "nbformat": 4,
 "nbformat_minor": 5
}
